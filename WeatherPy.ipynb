{
 "cells": [
  {
   "cell_type": "markdown",
   "metadata": {},
   "source": [
    "# WeatherPy\n",
    "\n",
    "---\n",
    "\n",
    "## Starter Code to Generate Random Geographic Coordinates and a List of Cities"
   ]
  },
  {
   "cell_type": "code",
   "execution_count": 1,
   "metadata": {
    "scrolled": true
   },
   "outputs": [],
   "source": [
    "# Dependencies and Setup\n",
    "import matplotlib.pyplot as plt\n",
    "import pandas as pd\n",
    "import numpy as np\n",
    "import requests\n",
    "import time\n",
    "from scipy.stats import linregress\n",
    "\n",
    "# Impor the OpenWeatherMap API key\n",
    "from api_keys import weather_api_key\n",
    "\n",
    "# Import citipy to determine the cities based on latitude and longitude\n",
    "from citipy import citipy"
   ]
  },
  {
   "cell_type": "markdown",
   "metadata": {},
   "source": [
    "### Generate the Cities List by Using the `citipy` Library"
   ]
  },
  {
   "cell_type": "code",
   "execution_count": 2,
   "metadata": {},
   "outputs": [
    {
     "name": "stdout",
     "output_type": "stream",
     "text": [
      "Number of cities in the list: 618\n"
     ]
    }
   ],
   "source": [
    "# Empty list for holding the latitude and longitude combinations\n",
    "lat_lngs = []\n",
    "\n",
    "# Empty list for holding the cities names\n",
    "cities = []\n",
    "\n",
    "# Range of latitudes and longitudes\n",
    "lat_range = (-90, 90)\n",
    "lng_range = (-180, 180)\n",
    "\n",
    "# Create a set of random lat and lng combinations\n",
    "lats = np.random.uniform(lat_range[0], lat_range[1], size=1500)\n",
    "lngs = np.random.uniform(lng_range[0], lng_range[1], size=1500)\n",
    "lat_lngs = zip(lats, lngs)\n",
    "\n",
    "# Identify nearest city for each lat, lng combination\n",
    "for lat_lng in lat_lngs:\n",
    "    city = citipy.nearest_city(lat_lng[0], lat_lng[1]).city_name\n",
    "    \n",
    "    # If the city is unique, then add it to a our cities list\n",
    "    if city not in cities:\n",
    "        cities.append(city)\n",
    "\n",
    "# Print the city count to confirm sufficient count\n",
    "print(f\"Number of cities in the list: {len(cities)}\")"
   ]
  },
  {
   "cell_type": "code",
   "execution_count": 3,
   "metadata": {},
   "outputs": [
    {
     "data": {
      "text/plain": [
       "'http://api.openweathermap.org/data/2.5/weather?appid=45719f06a9a5868fc21a2b7825155b58&units=imperial&q='"
      ]
     },
     "execution_count": 3,
     "metadata": {},
     "output_type": "execute_result"
    }
   ],
   "source": [
    "# Set the API base URL\n",
    "url = \"http://api.openweathermap.org/data/2.5/weather?\"\n",
    "units = \"imperial\"\n",
    "query_url = f\"{url}appid={weather_api_key}&units={units}&q=\"\n",
    "query_url"
   ]
  },
  {
   "cell_type": "markdown",
   "metadata": {},
   "source": [
    "---"
   ]
  },
  {
   "cell_type": "markdown",
   "metadata": {},
   "source": [
    "## Requirement 1: Create Plots to Showcase the Relationship Between Weather Variables and Latitude\n",
    "\n",
    "### Use the OpenWeatherMap API to retrieve weather data from the cities list generated in the started code"
   ]
  },
  {
   "cell_type": "code",
   "execution_count": 4,
   "metadata": {},
   "outputs": [
    {
     "name": "stdout",
     "output_type": "stream",
     "text": [
      "Beginning Data Retrieval     \n",
      "-----------------------------\n",
      "Processing Record 1 of Set 1 | kuyanovo\n",
      "Processing Record 2 of Set 1 | punta arenas\n",
      "Processing Record 3 of Set 1 | arraial do cabo\n",
      "Processing Record 4 of Set 1 | saldanha\n",
      "Processing Record 5 of Set 1 | airai\n",
      "Processing Record 6 of Set 1 | bambous virieux\n",
      "Processing Record 7 of Set 1 | mount gambier\n",
      "Processing Record 8 of Set 1 | busselton\n",
      "Processing Record 9 of Set 1 | castro\n",
      "Processing Record 10 of Set 1 | bara\n",
      "Processing Record 11 of Set 1 | saint george\n",
      "Processing Record 12 of Set 1 | bartica\n",
      "Processing Record 13 of Set 1 | albany\n",
      "Processing Record 14 of Set 1 | kruisfontein\n",
      "Processing Record 15 of Set 1 | abonnema\n",
      "Processing Record 16 of Set 1 | severo-kurilsk\n",
      "Processing Record 17 of Set 1 | khani\n",
      "Processing Record 18 of Set 1 | usinsk\n",
      "Processing Record 19 of Set 1 | ceres\n",
      "Processing Record 20 of Set 1 | victoria\n",
      "Processing Record 21 of Set 1 | dryden\n",
      "Processing Record 22 of Set 1 | longyearbyen\n",
      "Processing Record 23 of Set 1 | lebu\n",
      "Processing Record 24 of Set 1 | bluff\n",
      "Processing Record 25 of Set 1 | yellowknife\n",
      "Processing Record 26 of Set 1 | puerto del rosario\n",
      "Processing Record 27 of Set 1 | tiksi\n",
      "Processing Record 28 of Set 1 | rio gallegos\n",
      "Processing Record 29 of Set 1 | cherskiy\n",
      "Processing Record 30 of Set 1 | vestmannaeyjar\n",
      "Processing Record 31 of Set 1 | kaitangata\n",
      "Processing Record 32 of Set 1 | assiniboia\n",
      "Processing Record 33 of Set 1 | torphichen\n",
      "Processing Record 34 of Set 1 | srikakulam\n",
      "Processing Record 35 of Set 1 | marcona\n",
      "City not found. Skipping...\n",
      "Processing Record 36 of Set 1 | barrow\n",
      "Processing Record 37 of Set 1 | havre-saint-pierre\n",
      "Processing Record 38 of Set 1 | tura\n",
      "Processing Record 39 of Set 1 | east london\n",
      "Processing Record 40 of Set 1 | mar del plata\n",
      "Processing Record 41 of Set 1 | coquimbo\n",
      "Processing Record 42 of Set 1 | attawapiskat\n",
      "City not found. Skipping...\n",
      "Processing Record 43 of Set 1 | mataura\n",
      "Processing Record 44 of Set 1 | maua\n",
      "Processing Record 45 of Set 1 | grand river south east\n",
      "City not found. Skipping...\n",
      "Processing Record 46 of Set 1 | vaini\n",
      "Processing Record 47 of Set 1 | cape town\n",
      "Processing Record 48 of Set 1 | khatanga\n",
      "Processing Record 49 of Set 1 | port-gentil\n",
      "Processing Record 50 of Set 1 | mys shmidta\n",
      "City not found. Skipping...\n",
      "Processing Record 0 of Set 2 | dikson\n",
      "Processing Record 1 of Set 2 | rikitea\n",
      "Processing Record 2 of Set 2 | hermanus\n",
      "Processing Record 3 of Set 2 | malangali\n",
      "Processing Record 4 of Set 2 | katsuura\n",
      "Processing Record 5 of Set 2 | dingle\n",
      "Processing Record 6 of Set 2 | mouzakion\n",
      "City not found. Skipping...\n",
      "Processing Record 7 of Set 2 | ushuaia\n",
      "Processing Record 8 of Set 2 | codrington\n",
      "Processing Record 9 of Set 2 | amderma\n",
      "City not found. Skipping...\n",
      "Processing Record 10 of Set 2 | nikolskoye\n",
      "Processing Record 11 of Set 2 | kaohsiung\n",
      "Processing Record 12 of Set 2 | tecoanapa\n",
      "Processing Record 13 of Set 2 | shiraz\n",
      "Processing Record 14 of Set 2 | luwuk\n",
      "Processing Record 15 of Set 2 | kununurra\n",
      "Processing Record 16 of Set 2 | mitu\n",
      "Processing Record 17 of Set 2 | abha\n",
      "Processing Record 18 of Set 2 | avera\n",
      "Processing Record 19 of Set 2 | taolanaro\n",
      "City not found. Skipping...\n",
      "Processing Record 20 of Set 2 | sao filipe\n",
      "Processing Record 21 of Set 2 | mahebourg\n",
      "Processing Record 22 of Set 2 | los llanos de aridane\n",
      "Processing Record 23 of Set 2 | illoqqortoormiut\n",
      "City not found. Skipping...\n",
      "Processing Record 24 of Set 2 | faanui\n",
      "Processing Record 25 of Set 2 | tsihombe\n",
      "City not found. Skipping...\n",
      "Processing Record 26 of Set 2 | port alfred\n",
      "Processing Record 27 of Set 2 | stornoway\n",
      "Processing Record 28 of Set 2 | naryan-mar\n",
      "Processing Record 29 of Set 2 | anito\n",
      "Processing Record 30 of Set 2 | jamestown\n",
      "Processing Record 31 of Set 2 | souillac\n",
      "Processing Record 32 of Set 2 | tuktoyaktuk\n",
      "Processing Record 33 of Set 2 | avarua\n",
      "Processing Record 34 of Set 2 | mandalgovi\n",
      "Processing Record 35 of Set 2 | bredasdorp\n",
      "Processing Record 36 of Set 2 | thompson\n",
      "Processing Record 37 of Set 2 | saint-philippe\n",
      "Processing Record 38 of Set 2 | vila franca do campo\n",
      "Processing Record 39 of Set 2 | torbay\n",
      "Processing Record 40 of Set 2 | nanortalik\n",
      "Processing Record 41 of Set 2 | itapipoca\n",
      "Processing Record 42 of Set 2 | cabo san lucas\n",
      "Processing Record 43 of Set 2 | pitimbu\n",
      "Processing Record 44 of Set 2 | arcachon\n",
      "Processing Record 45 of Set 2 | butaritari\n",
      "Processing Record 46 of Set 2 | qarqin\n",
      "Processing Record 47 of Set 2 | raudeberg\n",
      "Processing Record 48 of Set 2 | sulangan\n",
      "Processing Record 49 of Set 2 | katherine\n",
      "Processing Record 0 of Set 3 | stranda\n",
      "Processing Record 1 of Set 3 | belushya guba\n",
      "City not found. Skipping...\n",
      "Processing Record 2 of Set 3 | shimoda\n",
      "Processing Record 3 of Set 3 | mount isa\n",
      "Processing Record 4 of Set 3 | xam nua\n",
      "Processing Record 5 of Set 3 | buluang\n",
      "Processing Record 6 of Set 3 | cotonou\n",
      "Processing Record 7 of Set 3 | klaksvik\n",
      "Processing Record 8 of Set 3 | hobart\n",
      "Processing Record 9 of Set 3 | ixtapa\n",
      "Processing Record 10 of Set 3 | pangkalanbuun\n",
      "Processing Record 11 of Set 3 | hithadhoo\n",
      "Processing Record 12 of Set 3 | tuatapere\n",
      "Processing Record 13 of Set 3 | aklavik\n",
      "Processing Record 14 of Set 3 | atar\n",
      "Processing Record 15 of Set 3 | barentsburg\n",
      "City not found. Skipping...\n",
      "Processing Record 16 of Set 3 | ilulissat\n",
      "Processing Record 17 of Set 3 | laguna\n",
      "Processing Record 18 of Set 3 | hilo\n",
      "Processing Record 19 of Set 3 | kapaa\n",
      "Processing Record 20 of Set 3 | zabinka\n",
      "City not found. Skipping...\n",
      "Processing Record 21 of Set 3 | tumannyy\n",
      "City not found. Skipping...\n",
      "Processing Record 22 of Set 3 | cayenne\n",
      "Processing Record 23 of Set 3 | kuche\n",
      "City not found. Skipping...\n",
      "Processing Record 24 of Set 3 | dalbandin\n",
      "Processing Record 25 of Set 3 | labytnangi\n",
      "Processing Record 26 of Set 3 | lamu\n",
      "Processing Record 27 of Set 3 | norman wells\n",
      "Processing Record 28 of Set 3 | guerrero negro\n",
      "Processing Record 29 of Set 3 | the pas\n",
      "Processing Record 30 of Set 3 | praia\n",
      "Processing Record 31 of Set 3 | arenapolis\n",
      "Processing Record 32 of Set 3 | kaniama\n",
      "Processing Record 33 of Set 3 | mehran\n",
      "Processing Record 34 of Set 3 | coihaique\n",
      "Processing Record 35 of Set 3 | ribeira grande\n",
      "Processing Record 36 of Set 3 | dandong\n",
      "Processing Record 37 of Set 3 | namatanai\n",
      "Processing Record 38 of Set 3 | atuona\n",
      "Processing Record 39 of Set 3 | vila velha\n",
      "Processing Record 40 of Set 3 | tautira\n",
      "Processing Record 41 of Set 3 | pangai\n",
      "Processing Record 42 of Set 3 | korla\n",
      "Processing Record 43 of Set 3 | tilichiki\n",
      "Processing Record 44 of Set 3 | grindavik\n",
      "Processing Record 45 of Set 3 | nizhneyansk\n",
      "City not found. Skipping...\n",
      "Processing Record 46 of Set 3 | wlodawa\n",
      "Processing Record 47 of Set 3 | orbetello\n",
      "Processing Record 48 of Set 3 | kavieng\n",
      "Processing Record 49 of Set 3 | mosetse\n",
      "Processing Record 0 of Set 4 | umzimvubu\n",
      "City not found. Skipping...\n",
      "Processing Record 1 of Set 4 | pevek\n",
      "Processing Record 2 of Set 4 | bolshoye sorokino\n",
      "City not found. Skipping...\n",
      "Processing Record 3 of Set 4 | sira\n",
      "Processing Record 4 of Set 4 | asau\n",
      "Processing Record 5 of Set 4 | zemio\n",
      "Processing Record 6 of Set 4 | maamba\n",
      "Processing Record 7 of Set 4 | port keats\n",
      "Processing Record 8 of Set 4 | turukhansk\n",
      "Processing Record 9 of Set 4 | yaan\n",
      "Processing Record 10 of Set 4 | buchanan\n",
      "Processing Record 11 of Set 4 | saskylakh\n",
      "Processing Record 12 of Set 4 | estancia\n",
      "Processing Record 13 of Set 4 | plettenberg bay\n",
      "Processing Record 14 of Set 4 | lorengau\n",
      "Processing Record 15 of Set 4 | iqaluit\n",
      "Processing Record 16 of Set 4 | enshi\n",
      "Processing Record 17 of Set 4 | mareeba\n",
      "Processing Record 18 of Set 4 | buraydah\n",
      "Processing Record 19 of Set 4 | narsaq\n",
      "Processing Record 20 of Set 4 | lasa\n",
      "Processing Record 21 of Set 4 | vila\n",
      "Processing Record 22 of Set 4 | qaqortoq\n",
      "Processing Record 23 of Set 4 | ngunguru\n",
      "Processing Record 24 of Set 4 | mehamn\n",
      "Processing Record 25 of Set 4 | kamenskoye\n",
      "City not found. Skipping...\n",
      "Processing Record 26 of Set 4 | vengurla\n",
      "Processing Record 27 of Set 4 | berlevag\n",
      "Processing Record 28 of Set 4 | chuy\n",
      "Processing Record 29 of Set 4 | yumen\n",
      "Processing Record 30 of Set 4 | hamilton\n",
      "Processing Record 31 of Set 4 | gumdag\n",
      "Processing Record 32 of Set 4 | porto novo\n",
      "Processing Record 33 of Set 4 | beringovskiy\n",
      "Processing Record 34 of Set 4 | ginda\n"
     ]
    },
    {
     "name": "stdout",
     "output_type": "stream",
     "text": [
      "Processing Record 35 of Set 4 | rockingham\n",
      "Processing Record 36 of Set 4 | shiyan\n",
      "Processing Record 37 of Set 4 | puerto ayora\n",
      "Processing Record 38 of Set 4 | grand centre\n",
      "City not found. Skipping...\n",
      "Processing Record 39 of Set 4 | alofi\n",
      "Processing Record 40 of Set 4 | naze\n",
      "Processing Record 41 of Set 4 | dunedin\n",
      "Processing Record 42 of Set 4 | qaanaaq\n",
      "Processing Record 43 of Set 4 | namibe\n",
      "Processing Record 44 of Set 4 | samarai\n",
      "Processing Record 45 of Set 4 | phnum penh\n",
      "City not found. Skipping...\n",
      "Processing Record 46 of Set 4 | gap\n",
      "Processing Record 47 of Set 4 | margate\n",
      "Processing Record 48 of Set 4 | teguldet\n",
      "Processing Record 49 of Set 4 | broome\n",
      "Processing Record 0 of Set 5 | zyryanka\n",
      "Processing Record 1 of Set 5 | aykhal\n",
      "Processing Record 2 of Set 5 | tateyama\n",
      "Processing Record 3 of Set 5 | camocim\n",
      "Processing Record 4 of Set 5 | bonthe\n",
      "Processing Record 5 of Set 5 | bethel\n",
      "Processing Record 6 of Set 5 | abashiri\n",
      "Processing Record 7 of Set 5 | rungata\n",
      "City not found. Skipping...\n",
      "Processing Record 8 of Set 5 | cockburn town\n",
      "Processing Record 9 of Set 5 | new norfolk\n",
      "Processing Record 10 of Set 5 | tasiilaq\n",
      "Processing Record 11 of Set 5 | mayor pablo lagerenza\n",
      "Processing Record 12 of Set 5 | esperance\n",
      "Processing Record 13 of Set 5 | san andres\n",
      "Processing Record 14 of Set 5 | ulaanbaatar\n",
      "Processing Record 15 of Set 5 | ust-kuyga\n",
      "Processing Record 16 of Set 5 | harper\n",
      "Processing Record 17 of Set 5 | hernani\n",
      "Processing Record 18 of Set 5 | ostrovnoy\n",
      "Processing Record 19 of Set 5 | puerto escondido\n",
      "Processing Record 20 of Set 5 | clyde river\n",
      "Processing Record 21 of Set 5 | concordia\n",
      "Processing Record 22 of Set 5 | the valley\n",
      "Processing Record 23 of Set 5 | roebourne\n",
      "Processing Record 24 of Set 5 | barbar\n",
      "City not found. Skipping...\n",
      "Processing Record 25 of Set 5 | khonuu\n",
      "City not found. Skipping...\n",
      "Processing Record 26 of Set 5 | karacabey\n",
      "Processing Record 27 of Set 5 | provideniya\n",
      "Processing Record 28 of Set 5 | staryy nadym\n",
      "Processing Record 29 of Set 5 | muros\n",
      "Processing Record 30 of Set 5 | kalemie\n",
      "Processing Record 31 of Set 5 | port augusta\n",
      "Processing Record 32 of Set 5 | antofagasta\n",
      "Processing Record 33 of Set 5 | chokurdakh\n",
      "Processing Record 34 of Set 5 | havelock\n",
      "Processing Record 35 of Set 5 | husavik\n",
      "Processing Record 36 of Set 5 | port elizabeth\n",
      "Processing Record 37 of Set 5 | lompoc\n",
      "Processing Record 38 of Set 5 | timmins\n",
      "Processing Record 39 of Set 5 | constitucion\n",
      "Processing Record 40 of Set 5 | helong\n",
      "Processing Record 41 of Set 5 | leningradskiy\n",
      "Processing Record 42 of Set 5 | ko samui\n",
      "Processing Record 43 of Set 5 | soure\n",
      "Processing Record 44 of Set 5 | yenangyaung\n",
      "Processing Record 45 of Set 5 | muisne\n",
      "Processing Record 46 of Set 5 | maningrida\n",
      "Processing Record 47 of Set 5 | kattivakkam\n",
      "Processing Record 48 of Set 5 | marshfield\n",
      "Processing Record 49 of Set 5 | vaitupu\n",
      "City not found. Skipping...\n",
      "Processing Record 0 of Set 6 | xining\n",
      "Processing Record 1 of Set 6 | klyuchi\n",
      "Processing Record 2 of Set 6 | carnarvon\n",
      "Processing Record 3 of Set 6 | pangnirtung\n",
      "Processing Record 4 of Set 6 | hasaki\n",
      "Processing Record 5 of Set 6 | vostok\n",
      "Processing Record 6 of Set 6 | san cosme y damian\n",
      "Processing Record 7 of Set 6 | yulara\n",
      "Processing Record 8 of Set 6 | faya\n",
      "Processing Record 9 of Set 6 | alindao\n",
      "Processing Record 10 of Set 6 | jalu\n",
      "Processing Record 11 of Set 6 | lavrentiya\n",
      "Processing Record 12 of Set 6 | georgetown\n",
      "Processing Record 13 of Set 6 | lashio\n",
      "Processing Record 14 of Set 6 | dukat\n",
      "Processing Record 15 of Set 6 | kalmunai\n",
      "Processing Record 16 of Set 6 | cabedelo\n",
      "Processing Record 17 of Set 6 | arcata\n",
      "Processing Record 18 of Set 6 | berdyuzhye\n",
      "City not found. Skipping...\n",
      "Processing Record 19 of Set 6 | auchi\n",
      "Processing Record 20 of Set 6 | yanchukan\n",
      "City not found. Skipping...\n",
      "Processing Record 21 of Set 6 | hobyo\n",
      "Processing Record 22 of Set 6 | kodiak\n",
      "Processing Record 23 of Set 6 | amlame\n",
      "Processing Record 24 of Set 6 | mendahara\n",
      "City not found. Skipping...\n",
      "Processing Record 25 of Set 6 | tarko-sale\n",
      "Processing Record 26 of Set 6 | baoro\n",
      "Processing Record 27 of Set 6 | north bend\n",
      "Processing Record 28 of Set 6 | agirish\n",
      "Processing Record 29 of Set 6 | hami\n",
      "Processing Record 30 of Set 6 | jabiru\n",
      "City not found. Skipping...\n",
      "Processing Record 31 of Set 6 | ambon\n",
      "Processing Record 32 of Set 6 | chara\n",
      "Processing Record 33 of Set 6 | bria\n",
      "Processing Record 34 of Set 6 | okha\n",
      "Processing Record 35 of Set 6 | sitka\n",
      "Processing Record 36 of Set 6 | mantua\n",
      "Processing Record 37 of Set 6 | elbistan\n",
      "Processing Record 38 of Set 6 | karakol\n",
      "Processing Record 39 of Set 6 | khandbari\n",
      "Processing Record 40 of Set 6 | george town\n",
      "Processing Record 41 of Set 6 | luganville\n",
      "Processing Record 42 of Set 6 | freetown\n",
      "Processing Record 43 of Set 6 | kaeo\n",
      "Processing Record 44 of Set 6 | halalo\n",
      "City not found. Skipping...\n",
      "Processing Record 45 of Set 6 | grand gaube\n",
      "Processing Record 46 of Set 6 | cidreira\n",
      "Processing Record 47 of Set 6 | kultuk\n",
      "Processing Record 48 of Set 6 | saint-paul\n",
      "Processing Record 49 of Set 6 | ponta delgada\n",
      "Processing Record 0 of Set 7 | klichka\n",
      "Processing Record 1 of Set 7 | gigmoto\n",
      "Processing Record 2 of Set 7 | zhigansk\n",
      "Processing Record 3 of Set 7 | richards bay\n",
      "Processing Record 4 of Set 7 | sandwick\n",
      "Processing Record 5 of Set 7 | nouadhibou\n",
      "Processing Record 6 of Set 7 | ulladulla\n",
      "Processing Record 7 of Set 7 | itoman\n",
      "Processing Record 8 of Set 7 | alice springs\n",
      "Processing Record 9 of Set 7 | lolua\n",
      "City not found. Skipping...\n",
      "Processing Record 10 of Set 7 | palabuhanratu\n",
      "City not found. Skipping...\n",
      "Processing Record 11 of Set 7 | dhola\n",
      "Processing Record 12 of Set 7 | mazyr\n",
      "Processing Record 13 of Set 7 | mahajanga\n",
      "Processing Record 14 of Set 7 | salinopolis\n",
      "Processing Record 15 of Set 7 | paciran\n",
      "Processing Record 16 of Set 7 | komsomolskiy\n",
      "Processing Record 17 of Set 7 | mahibadhoo\n",
      "Processing Record 18 of Set 7 | solwezi\n",
      "Processing Record 19 of Set 7 | wesselsbron\n",
      "Processing Record 20 of Set 7 | upernavik\n",
      "Processing Record 21 of Set 7 | bacolod\n",
      "Processing Record 22 of Set 7 | samusu\n",
      "City not found. Skipping...\n",
      "Processing Record 23 of Set 7 | teya\n",
      "Processing Record 24 of Set 7 | itapirapua\n",
      "Processing Record 25 of Set 7 | phanat nikhom\n",
      "Processing Record 26 of Set 7 | san juan\n",
      "Processing Record 27 of Set 7 | bengkulu\n",
      "Processing Record 28 of Set 7 | sabha\n",
      "Processing Record 29 of Set 7 | katima mulilo\n",
      "Processing Record 30 of Set 7 | trairi\n",
      "Processing Record 31 of Set 7 | villazon\n",
      "Processing Record 32 of Set 7 | portland\n",
      "Processing Record 33 of Set 7 | puerto baquerizo moreno\n",
      "Processing Record 34 of Set 7 | korhogo\n",
      "Processing Record 35 of Set 7 | omboue\n",
      "Processing Record 36 of Set 7 | sobolevo\n",
      "Processing Record 37 of Set 7 | oranjemund\n",
      "Processing Record 38 of Set 7 | sovetskiy\n",
      "Processing Record 39 of Set 7 | saint anthony\n",
      "Processing Record 40 of Set 7 | mayo\n",
      "Processing Record 41 of Set 7 | brae\n",
      "Processing Record 42 of Set 7 | santa rosa\n",
      "Processing Record 43 of Set 7 | rusape\n",
      "Processing Record 44 of Set 7 | pacific grove\n",
      "Processing Record 45 of Set 7 | padang\n",
      "Processing Record 46 of Set 7 | wodonga\n",
      "Processing Record 47 of Set 7 | santander\n",
      "Processing Record 48 of Set 7 | havoysund\n",
      "Processing Record 49 of Set 7 | sibolga\n",
      "Processing Record 0 of Set 8 | yei\n",
      "Processing Record 1 of Set 8 | hare bay\n",
      "Processing Record 2 of Set 8 | bodmin\n",
      "Processing Record 3 of Set 8 | wattens\n",
      "Processing Record 4 of Set 8 | udachnyy\n",
      "Processing Record 5 of Set 8 | gwadar\n",
      "Processing Record 6 of Set 8 | salamiyah\n",
      "Processing Record 7 of Set 8 | biak\n",
      "Processing Record 8 of Set 8 | pospelikha\n",
      "Processing Record 9 of Set 8 | camacha\n",
      "Processing Record 10 of Set 8 | sain alto\n",
      "Processing Record 11 of Set 8 | ampanihy\n",
      "Processing Record 12 of Set 8 | kahului\n",
      "Processing Record 13 of Set 8 | sangar\n",
      "Processing Record 14 of Set 8 | yeppoon\n",
      "Processing Record 15 of Set 8 | dutse\n",
      "Processing Record 16 of Set 8 | termoli\n",
      "Processing Record 17 of Set 8 | arman\n",
      "Processing Record 18 of Set 8 | robertson\n",
      "Processing Record 19 of Set 8 | hambantota\n",
      "Processing Record 20 of Set 8 | vardo\n",
      "Processing Record 21 of Set 8 | van buren\n",
      "Processing Record 22 of Set 8 | dunajska streda\n",
      "Processing Record 23 of Set 8 | bathsheba\n",
      "Processing Record 24 of Set 8 | buritis\n",
      "Processing Record 25 of Set 8 | barrhead\n"
     ]
    },
    {
     "name": "stdout",
     "output_type": "stream",
     "text": [
      "Processing Record 26 of Set 8 | gamba\n",
      "Processing Record 27 of Set 8 | saint-louis\n",
      "Processing Record 28 of Set 8 | smithers\n",
      "Processing Record 29 of Set 8 | axim\n",
      "Processing Record 30 of Set 8 | cedar city\n",
      "Processing Record 31 of Set 8 | doka\n",
      "Processing Record 32 of Set 8 | kanniyakumari\n",
      "Processing Record 33 of Set 8 | merauke\n",
      "Processing Record 34 of Set 8 | mengcheng\n",
      "Processing Record 35 of Set 8 | nuqui\n",
      "Processing Record 36 of Set 8 | tigre\n",
      "Processing Record 37 of Set 8 | ust-kamchatsk\n",
      "City not found. Skipping...\n",
      "Processing Record 38 of Set 8 | magistralnyy\n",
      "Processing Record 39 of Set 8 | hay river\n",
      "Processing Record 40 of Set 8 | acapulco\n",
      "Processing Record 41 of Set 8 | khagrachari\n",
      "City not found. Skipping...\n",
      "Processing Record 42 of Set 8 | muroto\n",
      "Processing Record 43 of Set 8 | ankara\n",
      "Processing Record 44 of Set 8 | natchitoches\n",
      "Processing Record 45 of Set 8 | karasjok\n",
      "Processing Record 46 of Set 8 | palana\n",
      "Processing Record 47 of Set 8 | bud\n",
      "Processing Record 48 of Set 8 | rock sound\n",
      "Processing Record 49 of Set 8 | paysandu\n",
      "Processing Record 0 of Set 9 | saint-francois\n",
      "Processing Record 1 of Set 9 | lusambo\n",
      "Processing Record 2 of Set 9 | port lincoln\n",
      "Processing Record 3 of Set 9 | noumea\n",
      "Processing Record 4 of Set 9 | tokur\n",
      "Processing Record 5 of Set 9 | homer\n",
      "Processing Record 6 of Set 9 | cap-aux-meules\n",
      "Processing Record 7 of Set 9 | mujiayingzi\n",
      "Processing Record 8 of Set 9 | liwale\n",
      "Processing Record 9 of Set 9 | vallenar\n",
      "Processing Record 10 of Set 9 | uruacu\n",
      "Processing Record 11 of Set 9 | seoul\n",
      "Processing Record 12 of Set 9 | svetlogorsk\n",
      "Processing Record 13 of Set 9 | miquelon\n",
      "Processing Record 14 of Set 9 | comodoro rivadavia\n",
      "Processing Record 15 of Set 9 | segou\n",
      "Processing Record 16 of Set 9 | konstantinovka\n",
      "Processing Record 17 of Set 9 | sawakin\n",
      "Processing Record 18 of Set 9 | jackson\n",
      "Processing Record 19 of Set 9 | santa cruz\n",
      "Processing Record 20 of Set 9 | isangel\n",
      "Processing Record 21 of Set 9 | mumford\n",
      "Processing Record 22 of Set 9 | dudinka\n",
      "Processing Record 23 of Set 9 | djibo\n",
      "Processing Record 24 of Set 9 | kutum\n",
      "Processing Record 25 of Set 9 | sioux lookout\n",
      "Processing Record 26 of Set 9 | matagami\n",
      "Processing Record 27 of Set 9 | ekibastuz\n",
      "Processing Record 28 of Set 9 | ichinohe\n",
      "Processing Record 29 of Set 9 | lima\n",
      "Processing Record 30 of Set 9 | tulu bolo\n",
      "Processing Record 31 of Set 9 | cochrane\n",
      "Processing Record 32 of Set 9 | trelew\n",
      "Processing Record 33 of Set 9 | college\n",
      "Processing Record 34 of Set 9 | chapais\n",
      "Processing Record 35 of Set 9 | dali\n",
      "Processing Record 36 of Set 9 | svetlyy\n",
      "Processing Record 37 of Set 9 | ballina\n",
      "Processing Record 38 of Set 9 | lagoa\n",
      "Processing Record 39 of Set 9 | botshabelo\n",
      "Processing Record 40 of Set 9 | oudtshoorn\n",
      "Processing Record 41 of Set 9 | sisimiut\n",
      "Processing Record 42 of Set 9 | kuragino\n",
      "Processing Record 43 of Set 9 | berdigestyakh\n",
      "Processing Record 44 of Set 9 | bakuriani\n",
      "Processing Record 45 of Set 9 | caravelas\n",
      "Processing Record 46 of Set 9 | zlobin\n",
      "Processing Record 47 of Set 9 | sao borja\n",
      "Processing Record 48 of Set 9 | fortuna\n",
      "Processing Record 49 of Set 9 | camana\n",
      "Processing Record 0 of Set 10 | porlamar\n",
      "Processing Record 1 of Set 10 | puerto madryn\n",
      "Processing Record 2 of Set 10 | ponta do sol\n",
      "Processing Record 3 of Set 10 | coracora\n",
      "Processing Record 4 of Set 10 | tessalit\n",
      "Processing Record 5 of Set 10 | san patricio\n",
      "Processing Record 6 of Set 10 | xinqing\n",
      "Processing Record 7 of Set 10 | kasongo-lunda\n",
      "Processing Record 8 of Set 10 | maceio\n",
      "Processing Record 9 of Set 10 | san policarpo\n",
      "Processing Record 10 of Set 10 | ketchikan\n",
      "Processing Record 11 of Set 10 | garowe\n",
      "Processing Record 12 of Set 10 | inta\n",
      "Processing Record 13 of Set 10 | merta\n",
      "Processing Record 14 of Set 10 | okhotsk\n",
      "Processing Record 15 of Set 10 | storforshei\n",
      "Processing Record 16 of Set 10 | ust-ishim\n",
      "Processing Record 17 of Set 10 | barrington\n",
      "Processing Record 18 of Set 10 | sorland\n",
      "Processing Record 19 of Set 10 | lazaro cardenas\n",
      "Processing Record 20 of Set 10 | novyy urgal\n",
      "Processing Record 21 of Set 10 | lakselv\n",
      "Processing Record 22 of Set 10 | nome\n",
      "Processing Record 23 of Set 10 | ouegoa\n",
      "Processing Record 24 of Set 10 | atherton\n",
      "Processing Record 25 of Set 10 | buin\n",
      "Processing Record 26 of Set 10 | balaipungut\n",
      "Processing Record 27 of Set 10 | puerto carreno\n",
      "Processing Record 28 of Set 10 | matara\n",
      "Processing Record 29 of Set 10 | itamarandiba\n",
      "Processing Record 30 of Set 10 | tromso\n",
      "Processing Record 31 of Set 10 | nelson bay\n",
      "Processing Record 32 of Set 10 | novouralsk\n",
      "Processing Record 33 of Set 10 | ust-tsilma\n",
      "Processing Record 34 of Set 10 | bakel\n",
      "Processing Record 35 of Set 10 | la ronge\n",
      "Processing Record 36 of Set 10 | shenzhen\n",
      "Processing Record 37 of Set 10 | yarim\n",
      "Processing Record 38 of Set 10 | hurricane\n",
      "Processing Record 39 of Set 10 | arrifes\n",
      "Processing Record 40 of Set 10 | poim\n",
      "Processing Record 41 of Set 10 | matamoros\n",
      "Processing Record 42 of Set 10 | yueyang\n",
      "Processing Record 43 of Set 10 | lichuan\n",
      "Processing Record 44 of Set 10 | kathmandu\n",
      "Processing Record 45 of Set 10 | hihifo\n",
      "City not found. Skipping...\n",
      "Processing Record 46 of Set 10 | corn island\n",
      "Processing Record 47 of Set 10 | sur\n",
      "Processing Record 48 of Set 10 | waingapu\n",
      "Processing Record 49 of Set 10 | uxbridge\n",
      "Processing Record 0 of Set 11 | mount hagen\n",
      "Processing Record 1 of Set 11 | dogondoutchi\n",
      "Processing Record 2 of Set 11 | batemans bay\n",
      "Processing Record 3 of Set 11 | krasnoarmeysk\n",
      "Processing Record 4 of Set 11 | sao joao da barra\n",
      "Processing Record 5 of Set 11 | uyemskiy\n",
      "Processing Record 6 of Set 11 | poum\n",
      "Processing Record 7 of Set 11 | mandan\n",
      "Processing Record 8 of Set 11 | puerto narino\n",
      "Processing Record 9 of Set 11 | tommot\n",
      "Processing Record 10 of Set 11 | ahipara\n",
      "Processing Record 11 of Set 11 | sorvag\n",
      "City not found. Skipping...\n",
      "Processing Record 12 of Set 11 | emerald\n",
      "Processing Record 13 of Set 11 | mugur-aksy\n",
      "Processing Record 14 of Set 11 | guadalupe y calvo\n",
      "Processing Record 15 of Set 11 | kieta\n",
      "Processing Record 16 of Set 11 | urucui\n",
      "Processing Record 17 of Set 11 | masyaf\n",
      "Processing Record 18 of Set 11 | akniste\n",
      "Processing Record 19 of Set 11 | ishigaki\n",
      "Processing Record 20 of Set 11 | kanel\n",
      "Processing Record 21 of Set 11 | gushikawa\n",
      "Processing Record 22 of Set 11 | constantine\n",
      "Processing Record 23 of Set 11 | brooklyn park\n",
      "Processing Record 24 of Set 11 | wilmington island\n",
      "Processing Record 25 of Set 11 | chikoy\n",
      "City not found. Skipping...\n",
      "Processing Record 26 of Set 11 | wanning\n",
      "Processing Record 27 of Set 11 | abu kamal\n",
      "Processing Record 28 of Set 11 | sinop\n",
      "Processing Record 29 of Set 11 | vao\n",
      "Processing Record 30 of Set 11 | ondorhaan\n",
      "City not found. Skipping...\n",
      "Processing Record 31 of Set 11 | hokitika\n",
      "Processing Record 32 of Set 11 | jerez\n",
      "Processing Record 33 of Set 11 | saleaula\n",
      "City not found. Skipping...\n",
      "Processing Record 34 of Set 11 | broken hill\n",
      "Processing Record 35 of Set 11 | orchard homes\n",
      "Processing Record 36 of Set 11 | flinders\n",
      "Processing Record 37 of Set 11 | preobrazheniye\n",
      "Processing Record 38 of Set 11 | winslow\n",
      "Processing Record 39 of Set 11 | warqla\n",
      "City not found. Skipping...\n",
      "Processing Record 40 of Set 11 | sept-iles\n",
      "Processing Record 41 of Set 11 | igarka\n",
      "Processing Record 42 of Set 11 | baykit\n",
      "Processing Record 43 of Set 11 | ixcatlan\n",
      "City not found. Skipping...\n",
      "Processing Record 44 of Set 11 | geraldton\n",
      "Processing Record 45 of Set 11 | yurimaguas\n",
      "Processing Record 46 of Set 11 | stilfontein\n",
      "Processing Record 47 of Set 11 | port blair\n",
      "Processing Record 48 of Set 11 | shirpur\n",
      "Processing Record 49 of Set 11 | ippy\n",
      "Processing Record 0 of Set 12 | licata\n",
      "Processing Record 1 of Set 12 | warragul\n",
      "Processing Record 2 of Set 12 | paita\n",
      "Processing Record 3 of Set 12 | ancud\n",
      "Processing Record 4 of Set 12 | angra\n",
      "City not found. Skipping...\n",
      "Processing Record 5 of Set 12 | puerto quijarro\n",
      "Processing Record 6 of Set 12 | olafsvik\n",
      "Processing Record 7 of Set 12 | kerema\n",
      "Processing Record 8 of Set 12 | panaba\n",
      "Processing Record 9 of Set 12 | karamay\n",
      "City not found. Skipping...\n",
      "Processing Record 10 of Set 12 | mao\n",
      "Processing Record 11 of Set 12 | maridi\n",
      "Processing Record 12 of Set 12 | tabou\n",
      "Processing Record 13 of Set 12 | rio grande\n",
      "Processing Record 14 of Set 12 | bose\n",
      "Processing Record 15 of Set 12 | oksfjord\n"
     ]
    },
    {
     "name": "stdout",
     "output_type": "stream",
     "text": [
      "Processing Record 16 of Set 12 | takapau\n",
      "Processing Record 17 of Set 12 | carmo do rio claro\n",
      "Processing Record 18 of Set 12 | hendijan\n",
      "City not found. Skipping...\n",
      "Processing Record 19 of Set 12 | zirgan\n",
      "Processing Record 20 of Set 12 | strabychovo\n",
      "Processing Record 21 of Set 12 | hit\n",
      "Processing Record 22 of Set 12 | changji\n",
      "Processing Record 23 of Set 12 | umm lajj\n",
      "Processing Record 24 of Set 12 | jingdezhen\n",
      "Processing Record 25 of Set 12 | morondava\n",
      "Processing Record 26 of Set 12 | chifeng\n",
      "Processing Record 27 of Set 12 | okato\n",
      "Processing Record 28 of Set 12 | mocuba\n",
      "Processing Record 29 of Set 12 | bubaque\n",
      "Processing Record 30 of Set 12 | bandar-e anzali\n",
      "Processing Record 31 of Set 12 | vanavara\n",
      "Processing Record 32 of Set 12 | senanga\n",
      "Processing Record 33 of Set 12 | kavaratti\n",
      "Processing Record 34 of Set 12 | taoru\n",
      "Processing Record 35 of Set 12 | saint-augustin\n",
      "Processing Record 36 of Set 12 | tolaga bay\n",
      "Processing Record 37 of Set 12 | santarem\n",
      "Processing Record 38 of Set 12 | sandakan\n",
      "Processing Record 39 of Set 12 | roald\n",
      "Processing Record 40 of Set 12 | nouakchott\n",
      "Processing Record 41 of Set 12 | champerico\n",
      "Processing Record 42 of Set 12 | juneau\n",
      "Processing Record 43 of Set 12 | batangafo\n",
      "Processing Record 44 of Set 12 | tanout\n",
      "Processing Record 45 of Set 12 | opuwo\n",
      "Processing Record 46 of Set 12 | marawi\n",
      "Processing Record 47 of Set 12 | sekoma\n",
      "Processing Record 48 of Set 12 | meyungs\n",
      "City not found. Skipping...\n",
      "Processing Record 49 of Set 12 | alyangula\n",
      "Processing Record 0 of Set 13 | mbeya\n",
      "Processing Record 1 of Set 13 | taperoa\n",
      "Processing Record 2 of Set 13 | taksimo\n",
      "Processing Record 3 of Set 13 | xingyi\n",
      "Processing Record 4 of Set 13 | areia branca\n",
      "Processing Record 5 of Set 13 | biltine\n",
      "Processing Record 6 of Set 13 | campbell river\n",
      "Processing Record 7 of Set 13 | sechura\n",
      "Processing Record 8 of Set 13 | guarapari\n",
      "Processing Record 9 of Set 13 | mahadday weyne\n",
      "City not found. Skipping...\n",
      "Processing Record 10 of Set 13 | falealupo\n",
      "City not found. Skipping...\n",
      "Processing Record 11 of Set 13 | soc trang\n",
      "Processing Record 12 of Set 13 | youghal\n",
      "Processing Record 13 of Set 13 | gat\n",
      "Processing Record 14 of Set 13 | pimentel\n",
      "Processing Record 15 of Set 13 | hovd\n",
      "Processing Record 16 of Set 13 | guajara-mirim\n",
      "City not found. Skipping...\n",
      "Processing Record 17 of Set 13 | mogadishu\n",
      "-----------------------------\n",
      "Data Retrieval Complete      \n",
      "-----------------------------\n"
     ]
    }
   ],
   "source": [
    "# Define an empty list to fetch the weather data for each city\n",
    "city_data = []\n",
    "\n",
    "# Print to logger\n",
    "print(\"Beginning Data Retrieval     \")\n",
    "print(\"-----------------------------\")\n",
    "\n",
    "# Create counters\n",
    "record_count = 1\n",
    "set_count = 1\n",
    "\n",
    "# Loop through all the cities in our list to fetch weather data\n",
    "for i, city in enumerate(cities):\n",
    "        \n",
    "    # Group cities in sets of 50 for logging purposes\n",
    "    if (i % 50 == 0 and i >= 50):\n",
    "        set_count += 1\n",
    "        record_count = 0\n",
    "\n",
    "    # Create endpoint URL with each city\n",
    "    city_url = f\"{url}appid={weather_api_key}&units={units}&q=\"\n",
    "    \n",
    "    # Log the url, record, and set numbers\n",
    "    print(\"Processing Record %s of Set %s | %s\" % (record_count, set_count, city))\n",
    "\n",
    "    # Add 1 to the record count\n",
    "    record_count += 1\n",
    "\n",
    "    # Run an API request for each of the cities\n",
    "    try:\n",
    "        # Parse the JSON and retrieve data\n",
    "        city_weather = requests.get(city_url+city).json()\n",
    "\n",
    "        # Parse out latitude, longitude, max temp, humidity, cloudiness, wind speed, country, and date\n",
    "        city_lat = city_weather[\"coord\"][\"lat\"]\n",
    "        city_lng = city_weather[\"coord\"][\"lon\"]\n",
    "        city_max_temp = city_weather[\"main\"]['temp_max']\n",
    "        city_humidity = city_weather[\"main\"][\"humidity\"]\n",
    "        city_clouds = city_weather[\"clouds\"]['all']\n",
    "        city_wind = city_weather[\"wind\"]['speed']\n",
    "        city_country = city_weather[\"sys\"][\"country\"]\n",
    "        city_date = city_weather['dt']\n",
    "\n",
    "        # Append the City information into city_data list\n",
    "        city_data.append({\"City\": city, \n",
    "                          \"Lat\": city_lat, \n",
    "                          \"Lng\": city_lng, \n",
    "                          \"Max Temp\": city_max_temp,\n",
    "                          \"Humidity\": city_humidity,\n",
    "                          \"Cloudiness\": city_clouds,\n",
    "                          \"Wind Speed\": city_wind,\n",
    "                          \"Country\": city_country,\n",
    "                          \"Date\": city_date})\n",
    "\n",
    "    # If an error is experienced, skip the city\n",
    "    except:\n",
    "        print(\"City not found. Skipping...\")\n",
    "        pass\n",
    "              \n",
    "# Indicate that Data Loading is complete \n",
    "print(\"-----------------------------\")\n",
    "print(\"Data Retrieval Complete      \")\n",
    "print(\"-----------------------------\")"
   ]
  },
  {
   "cell_type": "code",
   "execution_count": 5,
   "metadata": {},
   "outputs": [
    {
     "data": {
      "text/plain": [
       "City          570\n",
       "Lat           570\n",
       "Lng           570\n",
       "Max Temp      570\n",
       "Humidity      570\n",
       "Cloudiness    570\n",
       "Wind Speed    570\n",
       "Country       570\n",
       "Date          570\n",
       "dtype: int64"
      ]
     },
     "execution_count": 5,
     "metadata": {},
     "output_type": "execute_result"
    }
   ],
   "source": [
    "# Convert the cities weather data into a Pandas DataFrame\n",
    "city_data_df = pd.DataFrame(city_data)\n",
    "# Show Record Count\n",
    "city_data_df.count()"
   ]
  },
  {
   "cell_type": "code",
   "execution_count": 6,
   "metadata": {},
   "outputs": [
    {
     "data": {
      "text/html": [
       "<div>\n",
       "<style scoped>\n",
       "    .dataframe tbody tr th:only-of-type {\n",
       "        vertical-align: middle;\n",
       "    }\n",
       "\n",
       "    .dataframe tbody tr th {\n",
       "        vertical-align: top;\n",
       "    }\n",
       "\n",
       "    .dataframe thead th {\n",
       "        text-align: right;\n",
       "    }\n",
       "</style>\n",
       "<table border=\"1\" class=\"dataframe\">\n",
       "  <thead>\n",
       "    <tr style=\"text-align: right;\">\n",
       "      <th></th>\n",
       "      <th>City</th>\n",
       "      <th>Lat</th>\n",
       "      <th>Lng</th>\n",
       "      <th>Max Temp</th>\n",
       "      <th>Humidity</th>\n",
       "      <th>Cloudiness</th>\n",
       "      <th>Wind Speed</th>\n",
       "      <th>Country</th>\n",
       "      <th>Date</th>\n",
       "    </tr>\n",
       "  </thead>\n",
       "  <tbody>\n",
       "    <tr>\n",
       "      <th>0</th>\n",
       "      <td>kuyanovo</td>\n",
       "      <td>55.8014</td>\n",
       "      <td>54.5372</td>\n",
       "      <td>37.09</td>\n",
       "      <td>98</td>\n",
       "      <td>100</td>\n",
       "      <td>18.79</td>\n",
       "      <td>RU</td>\n",
       "      <td>1678651635</td>\n",
       "    </tr>\n",
       "    <tr>\n",
       "      <th>1</th>\n",
       "      <td>punta arenas</td>\n",
       "      <td>-53.1500</td>\n",
       "      <td>-70.9167</td>\n",
       "      <td>59.11</td>\n",
       "      <td>47</td>\n",
       "      <td>75</td>\n",
       "      <td>28.77</td>\n",
       "      <td>CL</td>\n",
       "      <td>1678651635</td>\n",
       "    </tr>\n",
       "    <tr>\n",
       "      <th>2</th>\n",
       "      <td>arraial do cabo</td>\n",
       "      <td>-22.9661</td>\n",
       "      <td>-42.0278</td>\n",
       "      <td>78.66</td>\n",
       "      <td>83</td>\n",
       "      <td>75</td>\n",
       "      <td>9.22</td>\n",
       "      <td>BR</td>\n",
       "      <td>1678651635</td>\n",
       "    </tr>\n",
       "    <tr>\n",
       "      <th>3</th>\n",
       "      <td>saldanha</td>\n",
       "      <td>-33.0117</td>\n",
       "      <td>17.9442</td>\n",
       "      <td>63.97</td>\n",
       "      <td>84</td>\n",
       "      <td>0</td>\n",
       "      <td>14.67</td>\n",
       "      <td>ZA</td>\n",
       "      <td>1678651636</td>\n",
       "    </tr>\n",
       "    <tr>\n",
       "      <th>4</th>\n",
       "      <td>airai</td>\n",
       "      <td>-8.9266</td>\n",
       "      <td>125.4092</td>\n",
       "      <td>57.87</td>\n",
       "      <td>93</td>\n",
       "      <td>23</td>\n",
       "      <td>1.12</td>\n",
       "      <td>TL</td>\n",
       "      <td>1678651601</td>\n",
       "    </tr>\n",
       "  </tbody>\n",
       "</table>\n",
       "</div>"
      ],
      "text/plain": [
       "              City      Lat       Lng  Max Temp  Humidity  Cloudiness  \\\n",
       "0         kuyanovo  55.8014   54.5372     37.09        98         100   \n",
       "1     punta arenas -53.1500  -70.9167     59.11        47          75   \n",
       "2  arraial do cabo -22.9661  -42.0278     78.66        83          75   \n",
       "3         saldanha -33.0117   17.9442     63.97        84           0   \n",
       "4            airai  -8.9266  125.4092     57.87        93          23   \n",
       "\n",
       "   Wind Speed Country        Date  \n",
       "0       18.79      RU  1678651635  \n",
       "1       28.77      CL  1678651635  \n",
       "2        9.22      BR  1678651635  \n",
       "3       14.67      ZA  1678651636  \n",
       "4        1.12      TL  1678651601  "
      ]
     },
     "execution_count": 6,
     "metadata": {},
     "output_type": "execute_result"
    }
   ],
   "source": [
    "# Display sample data\n",
    "city_data_df.head()"
   ]
  },
  {
   "cell_type": "code",
   "execution_count": 7,
   "metadata": {},
   "outputs": [],
   "source": [
    "# Export the City_Data into a csv\n",
    "city_data_df.to_csv(\"visualizations/cities.csv\", index_label=\"City_ID\")"
   ]
  },
  {
   "cell_type": "code",
   "execution_count": 8,
   "metadata": {},
   "outputs": [
    {
     "data": {
      "text/html": [
       "<div>\n",
       "<style scoped>\n",
       "    .dataframe tbody tr th:only-of-type {\n",
       "        vertical-align: middle;\n",
       "    }\n",
       "\n",
       "    .dataframe tbody tr th {\n",
       "        vertical-align: top;\n",
       "    }\n",
       "\n",
       "    .dataframe thead th {\n",
       "        text-align: right;\n",
       "    }\n",
       "</style>\n",
       "<table border=\"1\" class=\"dataframe\">\n",
       "  <thead>\n",
       "    <tr style=\"text-align: right;\">\n",
       "      <th></th>\n",
       "      <th>City</th>\n",
       "      <th>Lat</th>\n",
       "      <th>Lng</th>\n",
       "      <th>Max Temp</th>\n",
       "      <th>Humidity</th>\n",
       "      <th>Cloudiness</th>\n",
       "      <th>Wind Speed</th>\n",
       "      <th>Country</th>\n",
       "      <th>Date</th>\n",
       "    </tr>\n",
       "    <tr>\n",
       "      <th>City_ID</th>\n",
       "      <th></th>\n",
       "      <th></th>\n",
       "      <th></th>\n",
       "      <th></th>\n",
       "      <th></th>\n",
       "      <th></th>\n",
       "      <th></th>\n",
       "      <th></th>\n",
       "      <th></th>\n",
       "    </tr>\n",
       "  </thead>\n",
       "  <tbody>\n",
       "    <tr>\n",
       "      <th>0</th>\n",
       "      <td>kuyanovo</td>\n",
       "      <td>55.8014</td>\n",
       "      <td>54.5372</td>\n",
       "      <td>37.09</td>\n",
       "      <td>98</td>\n",
       "      <td>100</td>\n",
       "      <td>18.79</td>\n",
       "      <td>RU</td>\n",
       "      <td>1678651635</td>\n",
       "    </tr>\n",
       "    <tr>\n",
       "      <th>1</th>\n",
       "      <td>punta arenas</td>\n",
       "      <td>-53.1500</td>\n",
       "      <td>-70.9167</td>\n",
       "      <td>59.11</td>\n",
       "      <td>47</td>\n",
       "      <td>75</td>\n",
       "      <td>28.77</td>\n",
       "      <td>CL</td>\n",
       "      <td>1678651635</td>\n",
       "    </tr>\n",
       "    <tr>\n",
       "      <th>2</th>\n",
       "      <td>arraial do cabo</td>\n",
       "      <td>-22.9661</td>\n",
       "      <td>-42.0278</td>\n",
       "      <td>78.66</td>\n",
       "      <td>83</td>\n",
       "      <td>75</td>\n",
       "      <td>9.22</td>\n",
       "      <td>BR</td>\n",
       "      <td>1678651635</td>\n",
       "    </tr>\n",
       "    <tr>\n",
       "      <th>3</th>\n",
       "      <td>saldanha</td>\n",
       "      <td>-33.0117</td>\n",
       "      <td>17.9442</td>\n",
       "      <td>63.97</td>\n",
       "      <td>84</td>\n",
       "      <td>0</td>\n",
       "      <td>14.67</td>\n",
       "      <td>ZA</td>\n",
       "      <td>1678651636</td>\n",
       "    </tr>\n",
       "    <tr>\n",
       "      <th>4</th>\n",
       "      <td>airai</td>\n",
       "      <td>-8.9266</td>\n",
       "      <td>125.4092</td>\n",
       "      <td>57.87</td>\n",
       "      <td>93</td>\n",
       "      <td>23</td>\n",
       "      <td>1.12</td>\n",
       "      <td>TL</td>\n",
       "      <td>1678651601</td>\n",
       "    </tr>\n",
       "  </tbody>\n",
       "</table>\n",
       "</div>"
      ],
      "text/plain": [
       "                    City      Lat       Lng  Max Temp  Humidity  Cloudiness  \\\n",
       "City_ID                                                                       \n",
       "0               kuyanovo  55.8014   54.5372     37.09        98         100   \n",
       "1           punta arenas -53.1500  -70.9167     59.11        47          75   \n",
       "2        arraial do cabo -22.9661  -42.0278     78.66        83          75   \n",
       "3               saldanha -33.0117   17.9442     63.97        84           0   \n",
       "4                  airai  -8.9266  125.4092     57.87        93          23   \n",
       "\n",
       "         Wind Speed Country        Date  \n",
       "City_ID                                  \n",
       "0             18.79      RU  1678651635  \n",
       "1             28.77      CL  1678651635  \n",
       "2              9.22      BR  1678651635  \n",
       "3             14.67      ZA  1678651636  \n",
       "4              1.12      TL  1678651601  "
      ]
     },
     "execution_count": 8,
     "metadata": {},
     "output_type": "execute_result"
    }
   ],
   "source": [
    "# Read saved data\n",
    "city_data_df = pd.read_csv(\"visualizations/cities.csv\", index_col=\"City_ID\")\n",
    "\n",
    "# Display sample data\n",
    "city_data_df.head()"
   ]
  },
  {
   "cell_type": "markdown",
   "metadata": {},
   "source": [
    "### Create the Scatter Plots Requested\n",
    "\n",
    "#### Latitude Vs. Temperature"
   ]
  },
  {
   "cell_type": "code",
   "execution_count": 9,
   "metadata": {
    "tags": []
   },
   "outputs": [
    {
     "data": {
      "image/png": "[encoded data removed]",
      "text/plain": [
       "<Figure size 432x288 with 1 Axes>"
      ]
     },
     "metadata": {
      "needs_background": "light"
     },
     "output_type": "display_data"
    }
   ],
   "source": [
    "# Build scatter plot for latitude vs. temperature\n",
    "x_values = city_data_df['Lat']\n",
    "y_values = city_data_df['Max Temp']\n",
    "plt.scatter(x_values, y_values, facecolor = \"steelblue\", edgecolor = \"black\")\n",
    "\n",
    "# Incorporate the other graph properties\n",
    "plt.title(\"City Latitude vs. Max Temperature\")\n",
    "plt.xlabel(\"Latitude\")\n",
    "plt.ylabel(\"Max Temperature (F)\")\n",
    "\n",
    "# Set grid line\n",
    "plt.grid(linestyle='-', linewidth=1, alpha = 0.5)\n",
    "\n",
    "# Save the figure\n",
    "plt.savefig(\"visualizations/Fig1.png\")\n",
    "\n",
    "# Show plot\n",
    "plt.show()"
   ]
  },
  {
   "cell_type": "markdown",
   "metadata": {},
   "source": [
    "#### Latitude Vs. Humidity"
   ]
  },
  {
   "cell_type": "code",
   "execution_count": 10,
   "metadata": {},
   "outputs": [
    {
     "data": {
      "image/png": "[encoded data removed]",
      "text/plain": [
       "<Figure size 432x288 with 1 Axes>"
      ]
     },
     "metadata": {
      "needs_background": "light"
     },
     "output_type": "display_data"
    }
   ],
   "source": [
    "# Build the scatter plots for latitude vs. humidity\n",
    "x_values = city_data_df['Lat']\n",
    "y_values = city_data_df['Humidity']\n",
    "plt.scatter(x_values, y_values, facecolor = \"steelblue\", edgecolor = \"black\")\n",
    "\n",
    "# Incorporate the other graph properties\n",
    "plt.title(\"City Latitude vs. Humidity\")\n",
    "plt.xlabel(\"Latitude\")\n",
    "plt.ylabel(\"Humidity (%)\")\n",
    "\n",
    "# Set grid line\n",
    "plt.grid(linestyle='-', linewidth=1, alpha = 0.5)\n",
    "\n",
    "# Save the figure\n",
    "plt.savefig(\"visualizations/Fig2.png\")\n",
    "\n",
    "# Show plot\n",
    "plt.show()"
   ]
  },
  {
   "cell_type": "markdown",
   "metadata": {},
   "source": [
    "#### Latitude Vs. Cloudiness"
   ]
  },
  {
   "cell_type": "code",
   "execution_count": 11,
   "metadata": {},
   "outputs": [
    {
     "data": {
      "image/png": "[encoded data removed]",
      "text/plain": [
       "<Figure size 432x288 with 1 Axes>"
      ]
     },
     "metadata": {
      "needs_background": "light"
     },
     "output_type": "display_data"
    }
   ],
   "source": [
    "# Build the scatter plots for latitude vs. cloudiness\n",
    "x_values = city_data_df['Lat']\n",
    "y_values = city_data_df['Cloudiness']\n",
    "plt.scatter(x_values, y_values, facecolor = \"steelblue\", edgecolor = \"black\")\n",
    "\n",
    "# Incorporate the other graph properties\n",
    "plt.title(\"City Latitude vs. Cloudiness\")\n",
    "plt.xlabel(\"Latitude\")\n",
    "plt.ylabel(\"Cloudiness (%)\")\n",
    "\n",
    "# Set grid line\n",
    "plt.grid(linestyle='-', linewidth=1, alpha = 0.5)\n",
    "\n",
    "# Save the figure\n",
    "plt.savefig(\"visualizations/Fig3.png\")\n",
    "\n",
    "# Show plot\n",
    "plt.show()"
   ]
  },
  {
   "cell_type": "markdown",
   "metadata": {},
   "source": [
    "#### Latitude vs. Wind Speed Plot"
   ]
  },
  {
   "cell_type": "code",
   "execution_count": 12,
   "metadata": {},
   "outputs": [
    {
     "data": {
      "image/png": "[encoded data removed]",
      "text/plain": [
       "<Figure size 432x288 with 1 Axes>"
      ]
     },
     "metadata": {
      "needs_background": "light"
     },
     "output_type": "display_data"
    }
   ],
   "source": [
    "# Build the scatter plots for latitude vs. wind speed\n",
    "x_values = city_data_df['Lat']\n",
    "y_values = city_data_df['Wind Speed']\n",
    "plt.scatter(x_values, y_values, facecolor = \"steelblue\", edgecolor = \"black\")\n",
    "\n",
    "# Incorporate the other graph properties\n",
    "plt.title(\"City Latitude vs. Wind Speed\")\n",
    "plt.xlabel(\"Latitude\")\n",
    "plt.ylabel(\"Wind Speed (m/s)\")\n",
    "\n",
    "# Set grid line\n",
    "plt.grid(linestyle='-', linewidth=1, alpha = 0.5)\n",
    "\n",
    "# Save the figure\n",
    "plt.savefig(\"visualizations/Fig4.png\")\n",
    "\n",
    "\n",
    "# Show plot\n",
    "plt.show()"
   ]
  },
  {
   "cell_type": "markdown",
   "metadata": {},
   "source": [
    "---\n",
    "\n",
    "## Requirement 2: Compute Linear Regression for Each Relationship\n"
   ]
  },
  {
   "cell_type": "code",
   "execution_count": 13,
   "metadata": {},
   "outputs": [],
   "source": [
    "# Define a function to create Linear Regression plots\n",
    "def linear_regression(x_values, y_values,x_label, y_label,eqn_placement):\n",
    "## Run linear regression\n",
    "    (slope, intercept, rvalue, pvalue, stderr) = linregress(x_values, y_values)\n",
    "# Get regression values\n",
    "    regress_values = x_values * slope + intercept\n",
    "# Create line equation string    \n",
    "    line_eq = \"y = \" + str(round(slope,2)) + \"x + \" + str(round(intercept,2))\n",
    "# Plot scatter plot\n",
    "    plt.scatter(x_values,y_values)\n",
    "# Plot regression line\n",
    "    plt.plot(x_values,regress_values,\"r-\")\n",
    "# Label plot and annotate the line equation\n",
    "    plt.annotate(line_eq,eqn_placement,fontsize=15,color=\"red\")\n",
    "    plt.xlabel(x_label)\n",
    "    plt.ylabel(y_label)\n",
    "# Print r value\n",
    "    print(f\"The r-squared value is: {rvalue**2}\")\n"
   ]
  },
  {
   "cell_type": "code",
   "execution_count": 14,
   "metadata": {},
   "outputs": [
    {
     "data": {
      "text/html": [
       "<div>\n",
       "<style scoped>\n",
       "    .dataframe tbody tr th:only-of-type {\n",
       "        vertical-align: middle;\n",
       "    }\n",
       "\n",
       "    .dataframe tbody tr th {\n",
       "        vertical-align: top;\n",
       "    }\n",
       "\n",
       "    .dataframe thead th {\n",
       "        text-align: right;\n",
       "    }\n",
       "</style>\n",
       "<table border=\"1\" class=\"dataframe\">\n",
       "  <thead>\n",
       "    <tr style=\"text-align: right;\">\n",
       "      <th></th>\n",
       "      <th>City</th>\n",
       "      <th>Lat</th>\n",
       "      <th>Lng</th>\n",
       "      <th>Max Temp</th>\n",
       "      <th>Humidity</th>\n",
       "      <th>Cloudiness</th>\n",
       "      <th>Wind Speed</th>\n",
       "      <th>Country</th>\n",
       "      <th>Date</th>\n",
       "    </tr>\n",
       "    <tr>\n",
       "      <th>City_ID</th>\n",
       "      <th></th>\n",
       "      <th></th>\n",
       "      <th></th>\n",
       "      <th></th>\n",
       "      <th></th>\n",
       "      <th></th>\n",
       "      <th></th>\n",
       "      <th></th>\n",
       "      <th></th>\n",
       "    </tr>\n",
       "  </thead>\n",
       "  <tbody>\n",
       "    <tr>\n",
       "      <th>0</th>\n",
       "      <td>kuyanovo</td>\n",
       "      <td>55.8014</td>\n",
       "      <td>54.5372</td>\n",
       "      <td>37.09</td>\n",
       "      <td>98</td>\n",
       "      <td>100</td>\n",
       "      <td>18.79</td>\n",
       "      <td>RU</td>\n",
       "      <td>1678651635</td>\n",
       "    </tr>\n",
       "    <tr>\n",
       "      <th>9</th>\n",
       "      <td>bara</td>\n",
       "      <td>10.3744</td>\n",
       "      <td>10.7288</td>\n",
       "      <td>82.56</td>\n",
       "      <td>9</td>\n",
       "      <td>50</td>\n",
       "      <td>7.78</td>\n",
       "      <td>NG</td>\n",
       "      <td>1678651509</td>\n",
       "    </tr>\n",
       "    <tr>\n",
       "      <th>10</th>\n",
       "      <td>saint george</td>\n",
       "      <td>37.1041</td>\n",
       "      <td>-113.5841</td>\n",
       "      <td>63.43</td>\n",
       "      <td>51</td>\n",
       "      <td>0</td>\n",
       "      <td>4.00</td>\n",
       "      <td>US</td>\n",
       "      <td>1678651538</td>\n",
       "    </tr>\n",
       "    <tr>\n",
       "      <th>11</th>\n",
       "      <td>bartica</td>\n",
       "      <td>6.4000</td>\n",
       "      <td>-58.6167</td>\n",
       "      <td>86.32</td>\n",
       "      <td>67</td>\n",
       "      <td>100</td>\n",
       "      <td>3.60</td>\n",
       "      <td>GY</td>\n",
       "      <td>1678651637</td>\n",
       "    </tr>\n",
       "    <tr>\n",
       "      <th>12</th>\n",
       "      <td>albany</td>\n",
       "      <td>42.6001</td>\n",
       "      <td>-73.9662</td>\n",
       "      <td>45.05</td>\n",
       "      <td>45</td>\n",
       "      <td>100</td>\n",
       "      <td>1.01</td>\n",
       "      <td>US</td>\n",
       "      <td>1678651517</td>\n",
       "    </tr>\n",
       "  </tbody>\n",
       "</table>\n",
       "</div>"
      ],
      "text/plain": [
       "                 City      Lat       Lng  Max Temp  Humidity  Cloudiness  \\\n",
       "City_ID                                                                    \n",
       "0            kuyanovo  55.8014   54.5372     37.09        98         100   \n",
       "9                bara  10.3744   10.7288     82.56         9          50   \n",
       "10       saint george  37.1041 -113.5841     63.43        51           0   \n",
       "11            bartica   6.4000  -58.6167     86.32        67         100   \n",
       "12             albany  42.6001  -73.9662     45.05        45         100   \n",
       "\n",
       "         Wind Speed Country        Date  \n",
       "City_ID                                  \n",
       "0             18.79      RU  1678651635  \n",
       "9              7.78      NG  1678651509  \n",
       "10             4.00      US  1678651538  \n",
       "11             3.60      GY  1678651637  \n",
       "12             1.01      US  1678651517  "
      ]
     },
     "execution_count": 14,
     "metadata": {},
     "output_type": "execute_result"
    }
   ],
   "source": [
    "# Create a DataFrame with the Northern Hemisphere data (Latitude >= 0)\n",
    "northern_hemisphere = city_data_df.loc[city_data_df[\"Lat\"] >= 0]\n",
    "\n",
    "# Display sample data\n",
    "northern_hemisphere.head()"
   ]
  },
  {
   "cell_type": "code",
   "execution_count": 15,
   "metadata": {},
   "outputs": [
    {
     "data": {
      "text/html": [
       "<div>\n",
       "<style scoped>\n",
       "    .dataframe tbody tr th:only-of-type {\n",
       "        vertical-align: middle;\n",
       "    }\n",
       "\n",
       "    .dataframe tbody tr th {\n",
       "        vertical-align: top;\n",
       "    }\n",
       "\n",
       "    .dataframe thead th {\n",
       "        text-align: right;\n",
       "    }\n",
       "</style>\n",
       "<table border=\"1\" class=\"dataframe\">\n",
       "  <thead>\n",
       "    <tr style=\"text-align: right;\">\n",
       "      <th></th>\n",
       "      <th>City</th>\n",
       "      <th>Lat</th>\n",
       "      <th>Lng</th>\n",
       "      <th>Max Temp</th>\n",
       "      <th>Humidity</th>\n",
       "      <th>Cloudiness</th>\n",
       "      <th>Wind Speed</th>\n",
       "      <th>Country</th>\n",
       "      <th>Date</th>\n",
       "    </tr>\n",
       "    <tr>\n",
       "      <th>City_ID</th>\n",
       "      <th></th>\n",
       "      <th></th>\n",
       "      <th></th>\n",
       "      <th></th>\n",
       "      <th></th>\n",
       "      <th></th>\n",
       "      <th></th>\n",
       "      <th></th>\n",
       "      <th></th>\n",
       "    </tr>\n",
       "  </thead>\n",
       "  <tbody>\n",
       "    <tr>\n",
       "      <th>1</th>\n",
       "      <td>punta arenas</td>\n",
       "      <td>-53.1500</td>\n",
       "      <td>-70.9167</td>\n",
       "      <td>59.11</td>\n",
       "      <td>47</td>\n",
       "      <td>75</td>\n",
       "      <td>28.77</td>\n",
       "      <td>CL</td>\n",
       "      <td>1678651635</td>\n",
       "    </tr>\n",
       "    <tr>\n",
       "      <th>2</th>\n",
       "      <td>arraial do cabo</td>\n",
       "      <td>-22.9661</td>\n",
       "      <td>-42.0278</td>\n",
       "      <td>78.66</td>\n",
       "      <td>83</td>\n",
       "      <td>75</td>\n",
       "      <td>9.22</td>\n",
       "      <td>BR</td>\n",
       "      <td>1678651635</td>\n",
       "    </tr>\n",
       "    <tr>\n",
       "      <th>3</th>\n",
       "      <td>saldanha</td>\n",
       "      <td>-33.0117</td>\n",
       "      <td>17.9442</td>\n",
       "      <td>63.97</td>\n",
       "      <td>84</td>\n",
       "      <td>0</td>\n",
       "      <td>14.67</td>\n",
       "      <td>ZA</td>\n",
       "      <td>1678651636</td>\n",
       "    </tr>\n",
       "    <tr>\n",
       "      <th>4</th>\n",
       "      <td>airai</td>\n",
       "      <td>-8.9266</td>\n",
       "      <td>125.4092</td>\n",
       "      <td>57.87</td>\n",
       "      <td>93</td>\n",
       "      <td>23</td>\n",
       "      <td>1.12</td>\n",
       "      <td>TL</td>\n",
       "      <td>1678651601</td>\n",
       "    </tr>\n",
       "    <tr>\n",
       "      <th>5</th>\n",
       "      <td>bambous virieux</td>\n",
       "      <td>-20.3428</td>\n",
       "      <td>57.7575</td>\n",
       "      <td>78.22</td>\n",
       "      <td>80</td>\n",
       "      <td>99</td>\n",
       "      <td>13.06</td>\n",
       "      <td>MU</td>\n",
       "      <td>1678651636</td>\n",
       "    </tr>\n",
       "  </tbody>\n",
       "</table>\n",
       "</div>"
      ],
      "text/plain": [
       "                    City      Lat       Lng  Max Temp  Humidity  Cloudiness  \\\n",
       "City_ID                                                                       \n",
       "1           punta arenas -53.1500  -70.9167     59.11        47          75   \n",
       "2        arraial do cabo -22.9661  -42.0278     78.66        83          75   \n",
       "3               saldanha -33.0117   17.9442     63.97        84           0   \n",
       "4                  airai  -8.9266  125.4092     57.87        93          23   \n",
       "5        bambous virieux -20.3428   57.7575     78.22        80          99   \n",
       "\n",
       "         Wind Speed Country        Date  \n",
       "City_ID                                  \n",
       "1             28.77      CL  1678651635  \n",
       "2              9.22      BR  1678651635  \n",
       "3             14.67      ZA  1678651636  \n",
       "4              1.12      TL  1678651601  \n",
       "5             13.06      MU  1678651636  "
      ]
     },
     "execution_count": 15,
     "metadata": {},
     "output_type": "execute_result"
    }
   ],
   "source": [
    "# Create a DataFrame with the Southern Hemisphere data (Latitude < 0)\n",
    "southern_hemisphere = city_data_df.loc[city_data_df[\"Lat\"] < 0]\n",
    "\n",
    "# Display sample data\n",
    "southern_hemisphere.head()"
   ]
  },
  {
   "cell_type": "markdown",
   "metadata": {},
   "source": [
    "###  Temperature vs. Latitude Linear Regression Plot"
   ]
  },
  {
   "cell_type": "code",
   "execution_count": 16,
   "metadata": {},
   "outputs": [
    {
     "name": "stdout",
     "output_type": "stream",
     "text": [
      "The r-squared value is: 0.8031290044127877\n"
     ]
    },
    {
     "data": {
      "image/png": "[encoded data removed]",
      "text/plain": [
       "<Figure size 432x288 with 1 Axes>"
      ]
     },
     "metadata": {
      "needs_background": "light"
     },
     "output_type": "display_data"
    }
   ],
   "source": [
    "# Linear regression on Northern Hemisphere\n",
    "x_values = northern_hemisphere['Lat']\n",
    "y_values = northern_hemisphere['Max Temp']\n",
    "linear_regression(x_values, y_values, \"Latitude\", \"Max Temp (F)\",(0,20))"
   ]
  },
  {
   "cell_type": "code",
   "execution_count": 17,
   "metadata": {},
   "outputs": [
    {
     "name": "stdout",
     "output_type": "stream",
     "text": [
      "The r-squared value is: 0.21415795877158406\n"
     ]
    },
    {
     "data": {
      "image/png": "[encoded data removed]",
      "text/plain": [
       "<Figure size 432x288 with 1 Axes>"
      ]
     },
     "metadata": {
      "needs_background": "light"
     },
     "output_type": "display_data"
    }
   ],
   "source": [
    "# Linear regression on Southern Hemisphere\n",
    "x_values = southern_hemisphere['Lat']\n",
    "y_values = southern_hemisphere['Max Temp']\n",
    "linear_regression(x_values, y_values, \"Latitude\", \"Max Temp (F)\",(-40,40))"
   ]
  },
  {
   "cell_type": "markdown",
   "metadata": {},
   "source": [
    "Results discussion  \n",
    "77.5% variance in maximum temperature in Northern hemisphere can be explained by latitude. This is a moderate negative relationsip. As the latitude increases, the maximum temperature decreases.\n",
    "In southern hemisphere, there was a weak positive correlation, and change in latitude can explain 31% variance in maximum temperature."
   ]
  },
  {
   "cell_type": "markdown",
   "metadata": {},
   "source": [
    "### Humidity vs. Latitude Linear Regression Plot"
   ]
  },
  {
   "cell_type": "code",
   "execution_count": 18,
   "metadata": {},
   "outputs": [
    {
     "name": "stdout",
     "output_type": "stream",
     "text": [
      "The r-squared value is: 0.13123163016155887\n"
     ]
    },
    {
     "data": {
      "image/png": "[encoded data removed]",
      "text/plain": [
       "<Figure size 432x288 with 1 Axes>"
      ]
     },
     "metadata": {
      "needs_background": "light"
     },
     "output_type": "display_data"
    }
   ],
   "source": [
    "# Northern Hemisphere\n",
    "x_values = northern_hemisphere['Lat']\n",
    "y_values = northern_hemisphere['Humidity']\n",
    "linear_regression(x_values, y_values, \"Latitude\", \"Humidity(%)\",(50,10))"
   ]
  },
  {
   "cell_type": "code",
   "execution_count": 24,
   "metadata": {},
   "outputs": [
    {
     "name": "stdout",
     "output_type": "stream",
     "text": [
      "The r-squared value is: 0.0813875901161575\n"
     ]
    },
    {
     "data": {
      "image/png": "[encoded data removed]",
      "text/plain": [
       "<Figure size 432x288 with 1 Axes>"
      ]
     },
     "metadata": {
      "needs_background": "light"
     },
     "output_type": "display_data"
    }
   ],
   "source": [
    "# Southern Hemisphere\n",
    "x_values = southern_hemisphere['Lat']\n",
    "y_values = southern_hemisphere['Humidity']\n",
    "linear_regression(x_values, y_values, \"Latitude\", \"Humidity(%)\",(-58,30))"
   ]
  },
  {
   "cell_type": "markdown",
   "metadata": {},
   "source": [
    "**Discussion about the linear relationship:** Weak positive relationship between latitude and humdidity in Northern as well as Southern Hemisphere"
   ]
  },
  {
   "cell_type": "markdown",
   "metadata": {},
   "source": [
    "### Cloudiness vs. Latitude Linear Regression Plot"
   ]
  },
  {
   "cell_type": "code",
   "execution_count": 25,
   "metadata": {},
   "outputs": [
    {
     "name": "stdout",
     "output_type": "stream",
     "text": [
      "The r-squared value is: 0.017392227010723883\n"
     ]
    },
    {
     "data": {
      "image/png": "[encoded data removed]",
      "text/plain": [
       "<Figure size 432x288 with 1 Axes>"
      ]
     },
     "metadata": {
      "needs_background": "light"
     },
     "output_type": "display_data"
    }
   ],
   "source": [
    "# Northern Hemisphere\n",
    "x_values = northern_hemisphere['Lat']\n",
    "y_values = northern_hemisphere['Cloudiness']\n",
    "linear_regression(x_values, y_values, \"Latitude\", \"Cloudiness(%)\",(0,10))"
   ]
  },
  {
   "cell_type": "code",
   "execution_count": 27,
   "metadata": {},
   "outputs": [
    {
     "name": "stdout",
     "output_type": "stream",
     "text": [
      "The r-squared value is: 0.055373177568172574\n"
     ]
    },
    {
     "data": {
      "image/png": "[encoded data removed]",
      "text/plain": [
       "<Figure size 432x288 with 1 Axes>"
      ]
     },
     "metadata": {
      "needs_background": "light"
     },
     "output_type": "display_data"
    }
   ],
   "source": [
    "# Southern Hemisphere\n",
    "x_values = southern_hemisphere['Lat']\n",
    "y_values = southern_hemisphere['Cloudiness']\n",
    "linear_regression(x_values, y_values, \"Latitude\", \"Cloudiness(%)\",(-50,10))"
   ]
  },
  {
   "cell_type": "markdown",
   "metadata": {},
   "source": [
    "**Discussion about the linear relationship:** Weak positive relationship between latitude and cloudiness in Northern as well as Southern Hemisphere"
   ]
  },
  {
   "cell_type": "markdown",
   "metadata": {},
   "source": [
    "### Wind Speed vs. Latitude Linear Regression Plot"
   ]
  },
  {
   "cell_type": "code",
   "execution_count": 28,
   "metadata": {},
   "outputs": [
    {
     "name": "stdout",
     "output_type": "stream",
     "text": [
      "The r-squared value is: 0.0037235609250917657\n"
     ]
    },
    {
     "data": {
      "image/png": "[encoded data removed]",
      "text/plain": [
       "<Figure size 432x288 with 1 Axes>"
      ]
     },
     "metadata": {
      "needs_background": "light"
     },
     "output_type": "display_data"
    }
   ],
   "source": [
    "# Northern Hemisphere\n",
    "x_values = northern_hemisphere['Lat']\n",
    "y_values = northern_hemisphere['Wind Speed']\n",
    "linear_regression(x_values, y_values, \"Latitude\", \"Wind Speed(m/min)\",(0,25))"
   ]
  },
  {
   "cell_type": "code",
   "execution_count": 30,
   "metadata": {},
   "outputs": [
    {
     "name": "stdout",
     "output_type": "stream",
     "text": [
      "The r-squared value is: 0.10802563843750924\n"
     ]
    },
    {
     "data": {
      "image/png": "[encoded data removed]",
      "text/plain": [
       "<Figure size 432x288 with 1 Axes>"
      ]
     },
     "metadata": {
      "needs_background": "light"
     },
     "output_type": "display_data"
    }
   ],
   "source": [
    "# Southern Hemisphere\n",
    "x_values = southern_hemisphere['Lat']\n",
    "y_values = southern_hemisphere['Wind Speed']\n",
    "linear_regression(x_values, y_values, \"Latitude\", \"Wind Speed(m/min)\",(-30,27))"
   ]
  },
  {
   "cell_type": "markdown",
   "metadata": {},
   "source": [
    "**Discussion about the linear relationship:** Weak relationship between latitude and wind speed in Northern as well as Southern Hemisphere"
   ]
  },
  {
   "cell_type": "code",
   "execution_count": null,
   "metadata": {},
   "outputs": [],
   "source": []
  }
 ],
 "metadata": {
  "anaconda-cloud": {},
  "kernel_info": {
   "name": "python3"
  },
  "kernelspec": {
   "display_name": "Python 3 (ipykernel)",
   "language": "python",
   "name": "python3"
  },
  "language_info": {
   "codemirror_mode": {
    "name": "ipython",
    "version": 3
   },
   "file_extension": ".py",
   "mimetype": "text/x-python",
   "name": "python",
   "nbconvert_exporter": "python",
   "pygments_lexer": "ipython3",
   "version": "3.7.7"
  },
  "latex_envs": {
   "LaTeX_envs_menu_present": true,
   "autoclose": false,
   "autocomplete": true,
   "bibliofile": "biblio.bib",
   "cite_by": "apalike",
   "current_citInitial": 1,
   "eqLabelWithNumbers": true,
   "eqNumInitial": 1,
   "hotkeys": {
    "equation": "Ctrl-E",
    "itemize": "Ctrl-I"
   },
   "labels_anchors": false,
   "latex_user_defs": false,
   "report_style_numbering": false,
   "user_envs_cfg": false
  },
  "nteract": {
   "version": "0.12.3"
  }
 },
 "nbformat": 4,
 "nbformat_minor": 4
}
